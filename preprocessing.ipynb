{
  "nbformat": 4,
  "nbformat_minor": 0,
  "metadata": {
    "colab": {
      "provenance": []
    },
    "kernelspec": {
      "name": "python3",
      "display_name": "Python 3"
    },
    "language_info": {
      "name": "python"
    }
  },
  "cells": [
    {
      "cell_type": "code",
      "source": [
        "# Langkah 1: Import library yang dibutuhkan\n",
        "import pandas as pd\n",
        "import numpy as np\n",
        "from sklearn.preprocessing import LabelEncoder, StandardScaler\n",
        "from sklearn.model_selection import train_test_split\n"
      ],
      "metadata": {
        "id": "u-U3S9XvL1Zo"
      },
      "execution_count": 12,
      "outputs": []
    },
    {
      "cell_type": "code",
      "source": [
        "# Langkah 2: Membaca dataset\n",
        "file_path = 'user_behavior_dataset.csv'\n",
        "df = pd.read_csv(file_path)"
      ],
      "metadata": {
        "id": "85i_SNXUL3uM"
      },
      "execution_count": 13,
      "outputs": []
    },
    {
      "cell_type": "code",
      "source": [
        "# Langkah 3: Menampilkan 5 baris pertama untuk melihat struktur dataset\n",
        "print(\"Lima baris pertama dataset:\")\n",
        "print(df.head())"
      ],
      "metadata": {
        "colab": {
          "base_uri": "https://localhost:8080/"
        },
        "id": "kfNo-jTXL8RS",
        "outputId": "8592db94-433d-4ae1-fac8-852460d0e98c"
      },
      "execution_count": 14,
      "outputs": [
        {
          "output_type": "stream",
          "name": "stdout",
          "text": [
            "Lima baris pertama dataset:\n",
            "   User ID    Device Model Operating System  App Usage Time (min/day)  \\\n",
            "0        1  Google Pixel 5          Android                       393   \n",
            "1        2       OnePlus 9          Android                       268   \n",
            "2        3    Xiaomi Mi 11          Android                       154   \n",
            "3        4  Google Pixel 5          Android                       239   \n",
            "4        5       iPhone 12              iOS                       187   \n",
            "\n",
            "   Screen On Time (hours/day)  Battery Drain (mAh/day)  \\\n",
            "0                         6.4                     1872   \n",
            "1                         4.7                     1331   \n",
            "2                         4.0                      761   \n",
            "3                         4.8                     1676   \n",
            "4                         4.3                     1367   \n",
            "\n",
            "   Number of Apps Installed  Data Usage (MB/day)  Age  Gender  \\\n",
            "0                        67                 1122   40    Male   \n",
            "1                        42                  944   47  Female   \n",
            "2                        32                  322   42    Male   \n",
            "3                        56                  871   20    Male   \n",
            "4                        58                  988   31  Female   \n",
            "\n",
            "   User Behavior Class  \n",
            "0                    4  \n",
            "1                    3  \n",
            "2                    2  \n",
            "3                    3  \n",
            "4                    3  \n"
          ]
        }
      ]
    },
    {
      "cell_type": "code",
      "source": [
        "# Langkah 4: Melihat informasi umum dataset\n",
        "print(\"\\nInformasi dataset:\")\n",
        "print(df.info())"
      ],
      "metadata": {
        "colab": {
          "base_uri": "https://localhost:8080/"
        },
        "id": "Us_6Rue8L_bi",
        "outputId": "5148da98-00c6-4056-d3de-6b5d8423bd6c"
      },
      "execution_count": 15,
      "outputs": [
        {
          "output_type": "stream",
          "name": "stdout",
          "text": [
            "\n",
            "Informasi dataset:\n",
            "<class 'pandas.core.frame.DataFrame'>\n",
            "RangeIndex: 700 entries, 0 to 699\n",
            "Data columns (total 11 columns):\n",
            " #   Column                      Non-Null Count  Dtype  \n",
            "---  ------                      --------------  -----  \n",
            " 0   User ID                     700 non-null    int64  \n",
            " 1   Device Model                700 non-null    object \n",
            " 2   Operating System            700 non-null    object \n",
            " 3   App Usage Time (min/day)    700 non-null    int64  \n",
            " 4   Screen On Time (hours/day)  700 non-null    float64\n",
            " 5   Battery Drain (mAh/day)     700 non-null    int64  \n",
            " 6   Number of Apps Installed    700 non-null    int64  \n",
            " 7   Data Usage (MB/day)         700 non-null    int64  \n",
            " 8   Age                         700 non-null    int64  \n",
            " 9   Gender                      700 non-null    object \n",
            " 10  User Behavior Class         700 non-null    int64  \n",
            "dtypes: float64(1), int64(7), object(3)\n",
            "memory usage: 60.3+ KB\n",
            "None\n"
          ]
        }
      ]
    },
    {
      "cell_type": "code",
      "source": [
        "# Langkah 5: Mengecek apakah ada missing values\n",
        "print(\"\\nJumlah missing values per kolom:\")\n",
        "print(df.isnull().sum())"
      ],
      "metadata": {
        "colab": {
          "base_uri": "https://localhost:8080/"
        },
        "id": "pb2GWA89MCsp",
        "outputId": "624db2fc-3291-414a-d8ff-dc7a4e6f23ee"
      },
      "execution_count": 16,
      "outputs": [
        {
          "output_type": "stream",
          "name": "stdout",
          "text": [
            "\n",
            "Jumlah missing values per kolom:\n",
            "User ID                       0\n",
            "Device Model                  0\n",
            "Operating System              0\n",
            "App Usage Time (min/day)      0\n",
            "Screen On Time (hours/day)    0\n",
            "Battery Drain (mAh/day)       0\n",
            "Number of Apps Installed      0\n",
            "Data Usage (MB/day)           0\n",
            "Age                           0\n",
            "Gender                        0\n",
            "User Behavior Class           0\n",
            "dtype: int64\n"
          ]
        }
      ]
    },
    {
      "cell_type": "code",
      "source": [
        "# Langkah 6: Mengisi missing values jika ada\n",
        "# Misal: jika kolom 'age' memiliki missing values, kita bisa mengisinya dengan median\n",
        "if 'age' in df.columns:\n",
        "    df['age'].fillna(df['age'].median(), inplace=True)"
      ],
      "metadata": {
        "id": "kyRktjMeMEtN"
      },
      "execution_count": 17,
      "outputs": []
    },
    {
      "cell_type": "code",
      "source": [
        "# Langkah 7: Mengubah kolom kategori menjadi numerik (jika ada)\n",
        "# Gunakan LabelEncoder untuk mengubah data kategorikal menjadi numerik\n",
        "label_encoders = {}\n",
        "for column in df.select_dtypes(include=['object']).columns:\n",
        "    le = LabelEncoder()\n",
        "    df[column] = le.fit_transform(df[column])\n",
        "    label_encoders[column] = le"
      ],
      "metadata": {
        "id": "Ip7o6B4OMH_k"
      },
      "execution_count": 18,
      "outputs": []
    },
    {
      "cell_type": "code",
      "source": [
        "# Langkah 8: Normalisasi fitur numerik\n",
        "# Misal kita ingin menormalisasi kolom yang memiliki tipe data numerik\n",
        "numerical_features = df.select_dtypes(include=[np.number]).columns\n",
        "scaler = StandardScaler()\n",
        "df[numerical_features] = scaler.fit_transform(df[numerical_features])"
      ],
      "metadata": {
        "id": "FDbir6jxMLGX"
      },
      "execution_count": 19,
      "outputs": []
    },
    {
      "cell_type": "code",
      "source": [
        "# Langkah 9: Split data menjadi fitur dan target (X dan y)\n",
        "# Misal: jika kolom terakhir adalah target\n",
        "X = df.iloc[:, :-1]\n",
        "y = df.iloc[:, -1]"
      ],
      "metadata": {
        "id": "PXseDdZsMN0Y"
      },
      "execution_count": 20,
      "outputs": []
    },
    {
      "cell_type": "code",
      "source": [
        "# Langkah 10: Membagi data menjadi training dan testing (70% training, 30% testing)\n",
        "X_train, X_test, y_train, y_test = train_test_split(X, y, test_size=0.3, random_state=42)"
      ],
      "metadata": {
        "id": "A2EOwN7nMRuh"
      },
      "execution_count": 21,
      "outputs": []
    },
    {
      "cell_type": "code",
      "source": [
        "# Langkah 11: Menampilkan hasil split data\n",
        "print(\"\\nUkuran data training:\", X_train.shape)\n",
        "print(\"Ukuran data testing:\", X_test.shape)"
      ],
      "metadata": {
        "colab": {
          "base_uri": "https://localhost:8080/"
        },
        "id": "lgtRwLxmMTcx",
        "outputId": "f0e89b29-69c6-4e4f-dd73-4bbd616f5065"
      },
      "execution_count": 22,
      "outputs": [
        {
          "output_type": "stream",
          "name": "stdout",
          "text": [
            "\n",
            "Ukuran data training: (490, 10)\n",
            "Ukuran data testing: (210, 10)\n"
          ]
        }
      ]
    },
    {
      "cell_type": "code",
      "source": [
        "# Langkah 12: Menambahkan kembali hasil preprocessing ke dalam satu dataframe\n",
        "# Menggabungkan fitur (X) dan target (y) kembali ke satu dataframe\n",
        "df_processed = pd.concat([X, y], axis=1)"
      ],
      "metadata": {
        "id": "T4OQbP76MgIr"
      },
      "execution_count": 23,
      "outputs": []
    },
    {
      "cell_type": "code",
      "source": [
        "# Langkah 13: Menyimpan dataset yang sudah diproses ke dalam file CSV\n",
        "processed_file_path = 'dataset_preprocessed.csv'\n",
        "df_processed.to_csv(processed_file_path, index=False)"
      ],
      "metadata": {
        "id": "MdDbT9RjMiA2"
      },
      "execution_count": 25,
      "outputs": []
    },
    {
      "cell_type": "code",
      "source": [
        "# Langkah 14: Mengecek 5 baris pertama dari dataset yang sudah diproses\n",
        "print(\"\\nLima baris pertama dari dataset yang sudah diproses:\")\n",
        "print(df_processed.head())"
      ],
      "metadata": {
        "colab": {
          "base_uri": "https://localhost:8080/"
        },
        "id": "NbHKjnV6Mp_O",
        "outputId": "f27abcaf-be94-4ff3-9c37-01ba5b6f5833"
      },
      "execution_count": 26,
      "outputs": [
        {
          "output_type": "stream",
          "name": "stdout",
          "text": [
            "\n",
            "Lima baris pertama dari dataset yang sudah diproses:\n",
            "    User ID  Device Model  Operating System  App Usage Time (min/day)  \\\n",
            "0 -1.729578     -1.420106         -0.513359                  0.688256   \n",
            "1 -1.724629     -0.720547         -0.513359                 -0.017668   \n",
            "2 -1.719681      0.678573         -0.513359                 -0.661471   \n",
            "3 -1.714732     -1.420106         -0.513359                 -0.181443   \n",
            "4 -1.709783      1.378133          1.947953                 -0.475107   \n",
            "\n",
            "   Screen On Time (hours/day)  Battery Drain (mAh/day)  \\\n",
            "0                    0.367626                 0.423726   \n",
            "1                   -0.186771                -0.237198   \n",
            "2                   -0.415053                -0.933550   \n",
            "3                   -0.154160                 0.184279   \n",
            "4                   -0.317218                -0.193218   \n",
            "\n",
            "   Number of Apps Installed  Data Usage (MB/day)       Age    Gender  \\\n",
            "0                  0.606096             0.300405  0.126383  0.960769   \n",
            "1                 -0.322441             0.022277  0.709506 -1.040833   \n",
            "2                 -0.693856            -0.949607  0.292989  0.960769   \n",
            "3                  0.197540            -0.091787 -1.539682  0.960769   \n",
            "4                  0.271823             0.091028 -0.623346 -1.040833   \n",
            "\n",
            "   User Behavior Class  \n",
            "0             0.721184  \n",
            "1             0.007140  \n",
            "2            -0.706903  \n",
            "3             0.007140  \n",
            "4             0.007140  \n"
          ]
        }
      ]
    }
  ]
}